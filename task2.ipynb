{
 "cells": [
  {
   "cell_type": "code",
   "execution_count": 60,
   "metadata": {
    "executionInfo": {
     "elapsed": 1033,
     "status": "ok",
     "timestamp": 1751555403495,
     "user": {
      "displayName": "untamed chinese",
      "userId": "09879651063367768179"
     },
     "user_tz": -330
    },
    "id": "M8K1msyAvvLu"
   },
   "outputs": [],
   "source": [
    "import pandas as pd\n",
    "df=pd.read_csv('/content/drive/MyDrive/Copy of Dataset .csv')"
   ]
  },
  {
   "cell_type": "code",
   "execution_count": 61,
   "metadata": {
    "executionInfo": {
     "elapsed": 13,
     "status": "ok",
     "timestamp": 1751555403495,
     "user": {
      "displayName": "untamed chinese",
      "userId": "09879651063367768179"
     },
     "user_tz": -330
    },
    "id": "VwBCSH4zxCoj"
   },
   "outputs": [],
   "source": [
    "columns_to_drop = ['Restaurant ID', 'Country Code', 'Address',\n",
    "                   'Locality', 'Locality Verbose', 'Longitude', 'Latitude',\n",
    "                   'Currency', 'Switch to order menu', 'Rating color', 'Rating text','Average Cost for two','Has Table booking','Has Online delivery','Is delivering now','Votes']\n",
    "df.drop(columns_to_drop, axis=1, inplace=True)"
   ]
  },
  {
   "cell_type": "code",
   "execution_count": 62,
   "metadata": {
    "colab": {
     "base_uri": "https://localhost:8080/",
     "height": 206
    },
    "executionInfo": {
     "elapsed": 13,
     "status": "ok",
     "timestamp": 1751555403495,
     "user": {
      "displayName": "untamed chinese",
      "userId": "09879651063367768179"
     },
     "user_tz": -330
    },
    "id": "CCJzujbexjpm",
    "outputId": "57c13afa-1577-483a-84ce-0a115e7895c9"
   },
   "outputs": [
    {
     "data": {
      "application/vnd.google.colaboratory.intrinsic+json": {
       "summary": "{\n  \"name\": \"df\",\n  \"rows\": 9551,\n  \"fields\": [\n    {\n      \"column\": \"Restaurant Name\",\n      \"properties\": {\n        \"dtype\": \"string\",\n        \"num_unique_values\": 7446,\n        \"samples\": [\n          \"Kylin Skybar\",\n          \"Twisted Tacos\",\n          \"Cravings By Arshi Dhupia\"\n        ],\n        \"semantic_type\": \"\",\n        \"description\": \"\"\n      }\n    },\n    {\n      \"column\": \"City\",\n      \"properties\": {\n        \"dtype\": \"category\",\n        \"num_unique_values\": 141,\n        \"samples\": [\n          \"Vernonia\",\n          \"Nashik\",\n          \"Fernley\"\n        ],\n        \"semantic_type\": \"\",\n        \"description\": \"\"\n      }\n    },\n    {\n      \"column\": \"Cuisines\",\n      \"properties\": {\n        \"dtype\": \"category\",\n        \"num_unique_values\": 1825,\n        \"samples\": [\n          \"Japanese, Thai, Chinese\",\n          \"British, Contemporary\",\n          \"Greek, Italian\"\n        ],\n        \"semantic_type\": \"\",\n        \"description\": \"\"\n      }\n    },\n    {\n      \"column\": \"Price range\",\n      \"properties\": {\n        \"dtype\": \"number\",\n        \"std\": 0,\n        \"min\": 1,\n        \"max\": 4,\n        \"num_unique_values\": 4,\n        \"samples\": [\n          4,\n          1,\n          3\n        ],\n        \"semantic_type\": \"\",\n        \"description\": \"\"\n      }\n    },\n    {\n      \"column\": \"Aggregate rating\",\n      \"properties\": {\n        \"dtype\": \"number\",\n        \"std\": 1.5163775396521686,\n        \"min\": 0.0,\n        \"max\": 4.9,\n        \"num_unique_values\": 33,\n        \"samples\": [\n          2.3,\n          4.1,\n          2.1\n        ],\n        \"semantic_type\": \"\",\n        \"description\": \"\"\n      }\n    }\n  ]\n}",
       "type": "dataframe",
       "variable_name": "df"
      },
      "text/html": [
       "\n",
       "  <div id=\"df-b8f53ea9-c50e-43f2-b31b-5fab217bb170\" class=\"colab-df-container\">\n",
       "    <div>\n",
       "<style scoped>\n",
       "    .dataframe tbody tr th:only-of-type {\n",
       "        vertical-align: middle;\n",
       "    }\n",
       "\n",
       "    .dataframe tbody tr th {\n",
       "        vertical-align: top;\n",
       "    }\n",
       "\n",
       "    .dataframe thead th {\n",
       "        text-align: right;\n",
       "    }\n",
       "</style>\n",
       "<table border=\"1\" class=\"dataframe\">\n",
       "  <thead>\n",
       "    <tr style=\"text-align: right;\">\n",
       "      <th></th>\n",
       "      <th>Restaurant Name</th>\n",
       "      <th>City</th>\n",
       "      <th>Cuisines</th>\n",
       "      <th>Price range</th>\n",
       "      <th>Aggregate rating</th>\n",
       "    </tr>\n",
       "  </thead>\n",
       "  <tbody>\n",
       "    <tr>\n",
       "      <th>0</th>\n",
       "      <td>Le Petit Souffle</td>\n",
       "      <td>Makati City</td>\n",
       "      <td>French, Japanese, Desserts</td>\n",
       "      <td>3</td>\n",
       "      <td>4.8</td>\n",
       "    </tr>\n",
       "    <tr>\n",
       "      <th>1</th>\n",
       "      <td>Izakaya Kikufuji</td>\n",
       "      <td>Makati City</td>\n",
       "      <td>Japanese</td>\n",
       "      <td>3</td>\n",
       "      <td>4.5</td>\n",
       "    </tr>\n",
       "    <tr>\n",
       "      <th>2</th>\n",
       "      <td>Heat - Edsa Shangri-La</td>\n",
       "      <td>Mandaluyong City</td>\n",
       "      <td>Seafood, Asian, Filipino, Indian</td>\n",
       "      <td>4</td>\n",
       "      <td>4.4</td>\n",
       "    </tr>\n",
       "    <tr>\n",
       "      <th>3</th>\n",
       "      <td>Ooma</td>\n",
       "      <td>Mandaluyong City</td>\n",
       "      <td>Japanese, Sushi</td>\n",
       "      <td>4</td>\n",
       "      <td>4.9</td>\n",
       "    </tr>\n",
       "    <tr>\n",
       "      <th>4</th>\n",
       "      <td>Sambo Kojin</td>\n",
       "      <td>Mandaluyong City</td>\n",
       "      <td>Japanese, Korean</td>\n",
       "      <td>4</td>\n",
       "      <td>4.8</td>\n",
       "    </tr>\n",
       "  </tbody>\n",
       "</table>\n",
       "</div>\n",
       "    <div class=\"colab-df-buttons\">\n",
       "\n",
       "  <div class=\"colab-df-container\">\n",
       "    <button class=\"colab-df-convert\" onclick=\"convertToInteractive('df-b8f53ea9-c50e-43f2-b31b-5fab217bb170')\"\n",
       "            title=\"Convert this dataframe to an interactive table.\"\n",
       "            style=\"display:none;\">\n",
       "\n",
       "  <svg xmlns=\"http://www.w3.org/2000/svg\" height=\"24px\" viewBox=\"0 -960 960 960\">\n",
       "    <path d=\"M120-120v-720h720v720H120Zm60-500h600v-160H180v160Zm220 220h160v-160H400v160Zm0 220h160v-160H400v160ZM180-400h160v-160H180v160Zm440 0h160v-160H620v160ZM180-180h160v-160H180v160Zm440 0h160v-160H620v160Z\"/>\n",
       "  </svg>\n",
       "    </button>\n",
       "\n",
       "  <style>\n",
       "    .colab-df-container {\n",
       "      display:flex;\n",
       "      gap: 12px;\n",
       "    }\n",
       "\n",
       "    .colab-df-convert {\n",
       "      background-color: #E8F0FE;\n",
       "      border: none;\n",
       "      border-radius: 50%;\n",
       "      cursor: pointer;\n",
       "      display: none;\n",
       "      fill: #1967D2;\n",
       "      height: 32px;\n",
       "      padding: 0 0 0 0;\n",
       "      width: 32px;\n",
       "    }\n",
       "\n",
       "    .colab-df-convert:hover {\n",
       "      background-color: #E2EBFA;\n",
       "      box-shadow: 0px 1px 2px rgba(60, 64, 67, 0.3), 0px 1px 3px 1px rgba(60, 64, 67, 0.15);\n",
       "      fill: #174EA6;\n",
       "    }\n",
       "\n",
       "    .colab-df-buttons div {\n",
       "      margin-bottom: 4px;\n",
       "    }\n",
       "\n",
       "    [theme=dark] .colab-df-convert {\n",
       "      background-color: #3B4455;\n",
       "      fill: #D2E3FC;\n",
       "    }\n",
       "\n",
       "    [theme=dark] .colab-df-convert:hover {\n",
       "      background-color: #434B5C;\n",
       "      box-shadow: 0px 1px 3px 1px rgba(0, 0, 0, 0.15);\n",
       "      filter: drop-shadow(0px 1px 2px rgba(0, 0, 0, 0.3));\n",
       "      fill: #FFFFFF;\n",
       "    }\n",
       "  </style>\n",
       "\n",
       "    <script>\n",
       "      const buttonEl =\n",
       "        document.querySelector('#df-b8f53ea9-c50e-43f2-b31b-5fab217bb170 button.colab-df-convert');\n",
       "      buttonEl.style.display =\n",
       "        google.colab.kernel.accessAllowed ? 'block' : 'none';\n",
       "\n",
       "      async function convertToInteractive(key) {\n",
       "        const element = document.querySelector('#df-b8f53ea9-c50e-43f2-b31b-5fab217bb170');\n",
       "        const dataTable =\n",
       "          await google.colab.kernel.invokeFunction('convertToInteractive',\n",
       "                                                    [key], {});\n",
       "        if (!dataTable) return;\n",
       "\n",
       "        const docLinkHtml = 'Like what you see? Visit the ' +\n",
       "          '<a target=\"_blank\" href=https://colab.research.google.com/notebooks/data_table.ipynb>data table notebook</a>'\n",
       "          + ' to learn more about interactive tables.';\n",
       "        element.innerHTML = '';\n",
       "        dataTable['output_type'] = 'display_data';\n",
       "        await google.colab.output.renderOutput(dataTable, element);\n",
       "        const docLink = document.createElement('div');\n",
       "        docLink.innerHTML = docLinkHtml;\n",
       "        element.appendChild(docLink);\n",
       "      }\n",
       "    </script>\n",
       "  </div>\n",
       "\n",
       "\n",
       "    <div id=\"df-ba76c863-15eb-422b-ba91-38f6f69e23cc\">\n",
       "      <button class=\"colab-df-quickchart\" onclick=\"quickchart('df-ba76c863-15eb-422b-ba91-38f6f69e23cc')\"\n",
       "                title=\"Suggest charts\"\n",
       "                style=\"display:none;\">\n",
       "\n",
       "<svg xmlns=\"http://www.w3.org/2000/svg\" height=\"24px\"viewBox=\"0 0 24 24\"\n",
       "     width=\"24px\">\n",
       "    <g>\n",
       "        <path d=\"M19 3H5c-1.1 0-2 .9-2 2v14c0 1.1.9 2 2 2h14c1.1 0 2-.9 2-2V5c0-1.1-.9-2-2-2zM9 17H7v-7h2v7zm4 0h-2V7h2v10zm4 0h-2v-4h2v4z\"/>\n",
       "    </g>\n",
       "</svg>\n",
       "      </button>\n",
       "\n",
       "<style>\n",
       "  .colab-df-quickchart {\n",
       "      --bg-color: #E8F0FE;\n",
       "      --fill-color: #1967D2;\n",
       "      --hover-bg-color: #E2EBFA;\n",
       "      --hover-fill-color: #174EA6;\n",
       "      --disabled-fill-color: #AAA;\n",
       "      --disabled-bg-color: #DDD;\n",
       "  }\n",
       "\n",
       "  [theme=dark] .colab-df-quickchart {\n",
       "      --bg-color: #3B4455;\n",
       "      --fill-color: #D2E3FC;\n",
       "      --hover-bg-color: #434B5C;\n",
       "      --hover-fill-color: #FFFFFF;\n",
       "      --disabled-bg-color: #3B4455;\n",
       "      --disabled-fill-color: #666;\n",
       "  }\n",
       "\n",
       "  .colab-df-quickchart {\n",
       "    background-color: var(--bg-color);\n",
       "    border: none;\n",
       "    border-radius: 50%;\n",
       "    cursor: pointer;\n",
       "    display: none;\n",
       "    fill: var(--fill-color);\n",
       "    height: 32px;\n",
       "    padding: 0;\n",
       "    width: 32px;\n",
       "  }\n",
       "\n",
       "  .colab-df-quickchart:hover {\n",
       "    background-color: var(--hover-bg-color);\n",
       "    box-shadow: 0 1px 2px rgba(60, 64, 67, 0.3), 0 1px 3px 1px rgba(60, 64, 67, 0.15);\n",
       "    fill: var(--button-hover-fill-color);\n",
       "  }\n",
       "\n",
       "  .colab-df-quickchart-complete:disabled,\n",
       "  .colab-df-quickchart-complete:disabled:hover {\n",
       "    background-color: var(--disabled-bg-color);\n",
       "    fill: var(--disabled-fill-color);\n",
       "    box-shadow: none;\n",
       "  }\n",
       "\n",
       "  .colab-df-spinner {\n",
       "    border: 2px solid var(--fill-color);\n",
       "    border-color: transparent;\n",
       "    border-bottom-color: var(--fill-color);\n",
       "    animation:\n",
       "      spin 1s steps(1) infinite;\n",
       "  }\n",
       "\n",
       "  @keyframes spin {\n",
       "    0% {\n",
       "      border-color: transparent;\n",
       "      border-bottom-color: var(--fill-color);\n",
       "      border-left-color: var(--fill-color);\n",
       "    }\n",
       "    20% {\n",
       "      border-color: transparent;\n",
       "      border-left-color: var(--fill-color);\n",
       "      border-top-color: var(--fill-color);\n",
       "    }\n",
       "    30% {\n",
       "      border-color: transparent;\n",
       "      border-left-color: var(--fill-color);\n",
       "      border-top-color: var(--fill-color);\n",
       "      border-right-color: var(--fill-color);\n",
       "    }\n",
       "    40% {\n",
       "      border-color: transparent;\n",
       "      border-right-color: var(--fill-color);\n",
       "      border-top-color: var(--fill-color);\n",
       "    }\n",
       "    60% {\n",
       "      border-color: transparent;\n",
       "      border-right-color: var(--fill-color);\n",
       "    }\n",
       "    80% {\n",
       "      border-color: transparent;\n",
       "      border-right-color: var(--fill-color);\n",
       "      border-bottom-color: var(--fill-color);\n",
       "    }\n",
       "    90% {\n",
       "      border-color: transparent;\n",
       "      border-bottom-color: var(--fill-color);\n",
       "    }\n",
       "  }\n",
       "</style>\n",
       "\n",
       "      <script>\n",
       "        async function quickchart(key) {\n",
       "          const quickchartButtonEl =\n",
       "            document.querySelector('#' + key + ' button');\n",
       "          quickchartButtonEl.disabled = true;  // To prevent multiple clicks.\n",
       "          quickchartButtonEl.classList.add('colab-df-spinner');\n",
       "          try {\n",
       "            const charts = await google.colab.kernel.invokeFunction(\n",
       "                'suggestCharts', [key], {});\n",
       "          } catch (error) {\n",
       "            console.error('Error during call to suggestCharts:', error);\n",
       "          }\n",
       "          quickchartButtonEl.classList.remove('colab-df-spinner');\n",
       "          quickchartButtonEl.classList.add('colab-df-quickchart-complete');\n",
       "        }\n",
       "        (() => {\n",
       "          let quickchartButtonEl =\n",
       "            document.querySelector('#df-ba76c863-15eb-422b-ba91-38f6f69e23cc button');\n",
       "          quickchartButtonEl.style.display =\n",
       "            google.colab.kernel.accessAllowed ? 'block' : 'none';\n",
       "        })();\n",
       "      </script>\n",
       "    </div>\n",
       "\n",
       "    </div>\n",
       "  </div>\n"
      ],
      "text/plain": [
       "          Restaurant Name              City                          Cuisines  \\\n",
       "0        Le Petit Souffle       Makati City        French, Japanese, Desserts   \n",
       "1        Izakaya Kikufuji       Makati City                          Japanese   \n",
       "2  Heat - Edsa Shangri-La  Mandaluyong City  Seafood, Asian, Filipino, Indian   \n",
       "3                    Ooma  Mandaluyong City                   Japanese, Sushi   \n",
       "4             Sambo Kojin  Mandaluyong City                  Japanese, Korean   \n",
       "\n",
       "   Price range  Aggregate rating  \n",
       "0            3               4.8  \n",
       "1            3               4.5  \n",
       "2            4               4.4  \n",
       "3            4               4.9  \n",
       "4            4               4.8  "
      ]
     },
     "execution_count": 62,
     "metadata": {},
     "output_type": "execute_result"
    }
   ],
   "source": [
    "df.head()\n"
   ]
  },
  {
   "cell_type": "code",
   "execution_count": 63,
   "metadata": {
    "colab": {
     "base_uri": "https://localhost:8080/",
     "height": 241
    },
    "executionInfo": {
     "elapsed": 10,
     "status": "ok",
     "timestamp": 1751555403495,
     "user": {
      "displayName": "untamed chinese",
      "userId": "09879651063367768179"
     },
     "user_tz": -330
    },
    "id": "OvxeSZRbyMOq",
    "outputId": "127af791-5550-4b25-ceb0-5832d392d704"
   },
   "outputs": [
    {
     "data": {
      "text/html": [
       "<div>\n",
       "<style scoped>\n",
       "    .dataframe tbody tr th:only-of-type {\n",
       "        vertical-align: middle;\n",
       "    }\n",
       "\n",
       "    .dataframe tbody tr th {\n",
       "        vertical-align: top;\n",
       "    }\n",
       "\n",
       "    .dataframe thead th {\n",
       "        text-align: right;\n",
       "    }\n",
       "</style>\n",
       "<table border=\"1\" class=\"dataframe\">\n",
       "  <thead>\n",
       "    <tr style=\"text-align: right;\">\n",
       "      <th></th>\n",
       "      <th>0</th>\n",
       "    </tr>\n",
       "  </thead>\n",
       "  <tbody>\n",
       "    <tr>\n",
       "      <th>Restaurant Name</th>\n",
       "      <td>9551</td>\n",
       "    </tr>\n",
       "    <tr>\n",
       "      <th>City</th>\n",
       "      <td>9551</td>\n",
       "    </tr>\n",
       "    <tr>\n",
       "      <th>Cuisines</th>\n",
       "      <td>9551</td>\n",
       "    </tr>\n",
       "    <tr>\n",
       "      <th>Price range</th>\n",
       "      <td>9551</td>\n",
       "    </tr>\n",
       "    <tr>\n",
       "      <th>Aggregate rating</th>\n",
       "      <td>9551</td>\n",
       "    </tr>\n",
       "  </tbody>\n",
       "</table>\n",
       "</div><br><label><b>dtype:</b> int64</label>"
      ],
      "text/plain": [
       "Restaurant Name     9551\n",
       "City                9551\n",
       "Cuisines            9551\n",
       "Price range         9551\n",
       "Aggregate rating    9551\n",
       "dtype: int64"
      ]
     },
     "execution_count": 63,
     "metadata": {},
     "output_type": "execute_result"
    }
   ],
   "source": [
    "df.isnull().count()"
   ]
  },
  {
   "cell_type": "code",
   "execution_count": 64,
   "metadata": {
    "colab": {
     "base_uri": "https://localhost:8080/",
     "height": 204
    },
    "executionInfo": {
     "elapsed": 9,
     "status": "ok",
     "timestamp": 1751555403495,
     "user": {
      "displayName": "untamed chinese",
      "userId": "09879651063367768179"
     },
     "user_tz": -330
    },
    "id": "2INBAzwpyXiA",
    "outputId": "55b3362f-b19e-40b7-d175-5351443c75fc"
   },
   "outputs": [
    {
     "data": {
      "text/html": [
       "<div style=\"max-width:800px; border: 1px solid var(--colab-border-color);\"><style>\n",
       "      pre.function-repr-contents {\n",
       "        overflow-x: auto;\n",
       "        padding: 8px 12px;\n",
       "        max-height: 500px;\n",
       "      }\n",
       "\n",
       "      pre.function-repr-contents.function-repr-contents-collapsed {\n",
       "        cursor: pointer;\n",
       "        max-height: 100px;\n",
       "      }\n",
       "    </style>\n",
       "    <pre style=\"white-space: initial; background:\n",
       "         var(--colab-secondary-surface-color); padding: 8px 12px;\n",
       "         border-bottom: 1px solid var(--colab-border-color);\"><b>pandas.core.frame.DataFrame.drop_duplicates</b><br/>def drop_duplicates(subset: Hashable | Sequence[Hashable] | None=None, *, keep: DropKeep=&#x27;first&#x27;, inplace: bool=False, ignore_index: bool=False) -&gt; DataFrame | None</pre><pre class=\"function-repr-contents function-repr-contents-collapsed\" style=\"\"><a class=\"filepath\" style=\"display:none\" href=\"#\">/usr/local/lib/python3.11/dist-packages/pandas/core/frame.py</a>Return DataFrame with duplicate rows removed.\n",
       "\n",
       "Considering certain columns is optional. Indexes, including time indexes\n",
       "are ignored.\n",
       "\n",
       "Parameters\n",
       "----------\n",
       "subset : column label or sequence of labels, optional\n",
       "    Only consider certain columns for identifying duplicates, by\n",
       "    default use all of the columns.\n",
       "keep : {&#x27;first&#x27;, &#x27;last&#x27;, ``False``}, default &#x27;first&#x27;\n",
       "    Determines which duplicates (if any) to keep.\n",
       "\n",
       "    - &#x27;first&#x27; : Drop duplicates except for the first occurrence.\n",
       "    - &#x27;last&#x27; : Drop duplicates except for the last occurrence.\n",
       "    - ``False`` : Drop all duplicates.\n",
       "\n",
       "inplace : bool, default ``False``\n",
       "    Whether to modify the DataFrame rather than creating a new one.\n",
       "ignore_index : bool, default ``False``\n",
       "    If ``True``, the resulting axis will be labeled 0, 1, …, n - 1.\n",
       "\n",
       "Returns\n",
       "-------\n",
       "DataFrame or None\n",
       "    DataFrame with duplicates removed or None if ``inplace=True``.\n",
       "\n",
       "See Also\n",
       "--------\n",
       "DataFrame.value_counts: Count unique combinations of columns.\n",
       "\n",
       "Examples\n",
       "--------\n",
       "Consider dataset containing ramen rating.\n",
       "\n",
       "&gt;&gt;&gt; df = pd.DataFrame({\n",
       "...     &#x27;brand&#x27;: [&#x27;Yum Yum&#x27;, &#x27;Yum Yum&#x27;, &#x27;Indomie&#x27;, &#x27;Indomie&#x27;, &#x27;Indomie&#x27;],\n",
       "...     &#x27;style&#x27;: [&#x27;cup&#x27;, &#x27;cup&#x27;, &#x27;cup&#x27;, &#x27;pack&#x27;, &#x27;pack&#x27;],\n",
       "...     &#x27;rating&#x27;: [4, 4, 3.5, 15, 5]\n",
       "... })\n",
       "&gt;&gt;&gt; df\n",
       "    brand style  rating\n",
       "0  Yum Yum   cup     4.0\n",
       "1  Yum Yum   cup     4.0\n",
       "2  Indomie   cup     3.5\n",
       "3  Indomie  pack    15.0\n",
       "4  Indomie  pack     5.0\n",
       "\n",
       "By default, it removes duplicate rows based on all columns.\n",
       "\n",
       "&gt;&gt;&gt; df.drop_duplicates()\n",
       "    brand style  rating\n",
       "0  Yum Yum   cup     4.0\n",
       "2  Indomie   cup     3.5\n",
       "3  Indomie  pack    15.0\n",
       "4  Indomie  pack     5.0\n",
       "\n",
       "To remove duplicates on specific column(s), use ``subset``.\n",
       "\n",
       "&gt;&gt;&gt; df.drop_duplicates(subset=[&#x27;brand&#x27;])\n",
       "    brand style  rating\n",
       "0  Yum Yum   cup     4.0\n",
       "2  Indomie   cup     3.5\n",
       "\n",
       "To remove duplicates and keep last occurrences, use ``keep``.\n",
       "\n",
       "&gt;&gt;&gt; df.drop_duplicates(subset=[&#x27;brand&#x27;, &#x27;style&#x27;], keep=&#x27;last&#x27;)\n",
       "    brand style  rating\n",
       "1  Yum Yum   cup     4.0\n",
       "2  Indomie   cup     3.5\n",
       "4  Indomie  pack     5.0</pre>\n",
       "      <script>\n",
       "      if (google.colab.kernel.accessAllowed && google.colab.files && google.colab.files.view) {\n",
       "        for (const element of document.querySelectorAll('.filepath')) {\n",
       "          element.style.display = 'block'\n",
       "          element.onclick = (event) => {\n",
       "            event.preventDefault();\n",
       "            event.stopPropagation();\n",
       "            google.colab.files.view(element.textContent, 6731);\n",
       "          };\n",
       "        }\n",
       "      }\n",
       "      for (const element of document.querySelectorAll('.function-repr-contents')) {\n",
       "        element.onclick = (event) => {\n",
       "          event.preventDefault();\n",
       "          event.stopPropagation();\n",
       "          element.classList.toggle('function-repr-contents-collapsed');\n",
       "        };\n",
       "      }\n",
       "      </script>\n",
       "      </div>"
      ],
      "text/plain": [
       "<bound method DataFrame.drop_duplicates of                Restaurant Name              City  \\\n",
       "0             Le Petit Souffle       Makati City   \n",
       "1             Izakaya Kikufuji       Makati City   \n",
       "2       Heat - Edsa Shangri-La  Mandaluyong City   \n",
       "3                         Ooma  Mandaluyong City   \n",
       "4                  Sambo Kojin  Mandaluyong City   \n",
       "...                        ...               ...   \n",
       "9546               Naml۱ Gurme         ��stanbul   \n",
       "9547              Ceviz A��ac۱         ��stanbul   \n",
       "9548                     Huqqa         ��stanbul   \n",
       "9549               A���k Kahve         ��stanbul   \n",
       "9550  Walter's Coffee Roastery         ��stanbul   \n",
       "\n",
       "                              Cuisines  Price range  Aggregate rating  \n",
       "0           French, Japanese, Desserts            3               4.8  \n",
       "1                             Japanese            3               4.5  \n",
       "2     Seafood, Asian, Filipino, Indian            4               4.4  \n",
       "3                      Japanese, Sushi            4               4.9  \n",
       "4                     Japanese, Korean            4               4.8  \n",
       "...                                ...          ...               ...  \n",
       "9546                           Turkish            3               4.1  \n",
       "9547   World Cuisine, Patisserie, Cafe            3               4.2  \n",
       "9548            Italian, World Cuisine            4               3.7  \n",
       "9549                   Restaurant Cafe            4               4.0  \n",
       "9550                              Cafe            2               4.0  \n",
       "\n",
       "[9551 rows x 5 columns]>"
      ]
     },
     "execution_count": 64,
     "metadata": {},
     "output_type": "execute_result"
    }
   ],
   "source": [
    "df.drop_duplicates"
   ]
  },
  {
   "cell_type": "code",
   "execution_count": 65,
   "metadata": {
    "executionInfo": {
     "elapsed": 8,
     "status": "ok",
     "timestamp": 1751555403495,
     "user": {
      "displayName": "untamed chinese",
      "userId": "09879651063367768179"
     },
     "user_tz": -330
    },
    "id": "BNG4UzxB028A"
   },
   "outputs": [],
   "source": [
    "df.dropna(inplace=True)"
   ]
  },
  {
   "cell_type": "code",
   "execution_count": 66,
   "metadata": {
    "executionInfo": {
     "elapsed": 8,
     "status": "ok",
     "timestamp": 1751555403495,
     "user": {
      "displayName": "untamed chinese",
      "userId": "09879651063367768179"
     },
     "user_tz": -330
    },
    "id": "CntAekUOybyi"
   },
   "outputs": [],
   "source": [
    "\n",
    "df['Combined'] = df['Cuisines'] + ' ' + df['City'] + ' Price' + df['Price range'].astype(str)\n"
   ]
  },
  {
   "cell_type": "code",
   "execution_count": 67,
   "metadata": {
    "executionInfo": {
     "elapsed": 8,
     "status": "ok",
     "timestamp": 1751555403495,
     "user": {
      "displayName": "untamed chinese",
      "userId": "09879651063367768179"
     },
     "user_tz": -330
    },
    "id": "x3YblT3zztCY"
   },
   "outputs": [],
   "source": [
    "from sklearn.feature_extraction.text import TfidfVectorizer\n",
    "from sklearn.metrics.pairwise import cosine_similarity"
   ]
  },
  {
   "cell_type": "code",
   "execution_count": 68,
   "metadata": {
    "executionInfo": {
     "elapsed": 720,
     "status": "ok",
     "timestamp": 1751555404207,
     "user": {
      "displayName": "untamed chinese",
      "userId": "09879651063367768179"
     },
     "user_tz": -330
    },
    "id": "BMsdcgT3zycf"
   },
   "outputs": [],
   "source": [
    "vectorizer = TfidfVectorizer(stop_words='english')\n",
    "tfidf_matrix = vectorizer.fit_transform(df['Combined'])"
   ]
  },
  {
   "cell_type": "code",
   "execution_count": null,
   "metadata": {
    "id": "mOCu476N1oK6"
   },
   "outputs": [],
   "source": []
  },
  {
   "cell_type": "code",
   "execution_count": 69,
   "metadata": {
    "colab": {
     "base_uri": "https://localhost:8080/"
    },
    "executionInfo": {
     "elapsed": 22932,
     "status": "ok",
     "timestamp": 1751555427134,
     "user": {
      "displayName": "untamed chinese",
      "userId": "09879651063367768179"
     },
     "user_tz": -330
    },
    "id": "HF0Jw6-m0Ngb",
    "outputId": "983fa7e9-bd49-489e-eb89-c86f77724c6f"
   },
   "outputs": [
    {
     "name": "stdout",
     "output_type": "stream",
     "text": [
      "Enter preferred cuisines (comma-separated): indian\n",
      "Enter city: makai\n",
      "Enter price range (1 to 4): 4\n"
     ]
    }
   ],
   "source": [
    "\n",
    "cuisines = input(\"Enter preferred cuisines (comma-separated): \")  # Ex: \"Italian, Chinese\"\n",
    "city = input(\"Enter city: \")\n",
    "price = input(\"Enter price range (1 to 4): \")\n",
    "\n",
    "\n",
    "cuisine_cleaned = ' '.join([c.strip() for c in cuisines.split(',')])  # \"Italian Chinese\"\n",
    "\n",
    "\n",
    "user_pref = [f\"{cuisine_cleaned} {city} Price{price}\"]\n"
   ]
  },
  {
   "cell_type": "code",
   "execution_count": 70,
   "metadata": {
    "executionInfo": {
     "elapsed": 7,
     "status": "ok",
     "timestamp": 1751555427135,
     "user": {
      "displayName": "untamed chinese",
      "userId": "09879651063367768179"
     },
     "user_tz": -330
    },
    "id": "JRr5YYy10dBJ"
   },
   "outputs": [],
   "source": [
    "\n",
    "uservec = vectorizer.transform(user_pref)\n",
    "similarity = cosine_similarity(uservec, tfidf_matrix)\n",
    "topRestuarents = similarity[0].argsort()[::-1][:5]\n"
   ]
  },
  {
   "cell_type": "code",
   "execution_count": 71,
   "metadata": {
    "colab": {
     "base_uri": "https://localhost:8080/"
    },
    "executionInfo": {
     "elapsed": 6,
     "status": "ok",
     "timestamp": 1751555427135,
     "user": {
      "displayName": "untamed chinese",
      "userId": "09879651063367768179"
     },
     "user_tz": -330
    },
    "id": "01otDxHF0_3K",
    "outputId": "b0a6698b-d3ce-43e3-9173-530b7d30365a"
   },
   "outputs": [
    {
     "name": "stdout",
     "output_type": "stream",
     "text": [
      "Top Recommendations:\n",
      "The Metro Fast Food | Chinese | New Delhi | Rating: 2.6\n",
      "Uncle Xpress | Chinese | New Delhi | Rating: 3.4\n",
      "Chinese Chaat Corner | Chinese | New Delhi | Rating: 0.0\n",
      "Hot & Tasty | Chinese | New Delhi | Rating: 0.0\n",
      "Flirty Momo's | Chinese | New Delhi | Rating: 3.1\n"
     ]
    }
   ],
   "source": [
    "print(\"Top Recommendations:\")\n",
    "# Print the top 5 results\n",
    "for idx in top_indices:\n",
    "    row = df.iloc[idx]\n",
    "    print(f\"{row['Restaurant Name']} | {row['Cuisines']} | {row['City']} | Rating: {row['Aggregate rating']}\")\n"
   ]
  },
  {
   "cell_type": "code",
   "execution_count": 71,
   "metadata": {
    "executionInfo": {
     "elapsed": 5,
     "status": "ok",
     "timestamp": 1751555427136,
     "user": {
      "displayName": "untamed chinese",
      "userId": "09879651063367768179"
     },
     "user_tz": -330
    },
    "id": "LTAbOqr31U16"
   },
   "outputs": [],
   "source": []
  }
 ],
 "metadata": {
  "colab": {
   "authorship_tag": "ABX9TyMWX+KedxAT8GtMrPzxqr1F",
   "mount_file_id": "1DyjRQR8jXBzZhHFRIPsmAePcIgRB8itI",
   "provenance": []
  },
  "kernelspec": {
   "display_name": "Python 3",
   "name": "python3"
  },
  "language_info": {
   "name": "python"
  }
 },
 "nbformat": 4,
 "nbformat_minor": 0
}
